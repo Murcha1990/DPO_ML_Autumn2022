{
 "cells": [
  {
   "cell_type": "markdown",
   "metadata": {
    "id": "Q7ytv2GMjpGZ"
   },
   "source": [
    "В этом домашнем задании будем оценивать склонность клиента банка откликнуться или не откликнуться на предложение.\n",
    "\n",
    "Существует очень простой метод машинного обучения - [метод ближайших соседей, KNN](https://ru.wikipedia.org/wiki/Метод_k-ближайших_соседей) (для понимания метода понадобится прочесть первые два абзаца по ссылке). У него нет весов, поэтому он как правило плохо работает, но для сравнения с другими методами нам вполне подойдет.\n",
    "\n",
    "В этом домашнем задании вам предлагается решить задачу с помощью KNN и логистической регрессии и сравнить результаты."
   ]
  },
  {
   "cell_type": "code",
   "execution_count": null,
   "metadata": {
    "id": "aPDB2wP8jndz"
   },
   "outputs": [],
   "source": [
    "# подключим библиотеки\n",
    "%matplotlib inline\n",
    "import matplotlib.pyplot as plt\n",
    "import numpy as np\n",
    "import pandas as pd\n",
    "\n",
    "import warnings\n",
    "warnings.filterwarnings(\"ignore\")"
   ]
  },
  {
   "cell_type": "code",
   "execution_count": null,
   "metadata": {
    "id": "7Zw7RmtAjn8O"
   },
   "outputs": [],
   "source": [
    "# считаем данные\n",
    "data = pd.read_csv('ClientsData.csv')"
   ]
  },
  {
   "cell_type": "code",
   "execution_count": null,
   "metadata": {
    "id": "3QbRGWqJjxOv"
   },
   "outputs": [],
   "source": [
    "data.head()"
   ]
  },
  {
   "cell_type": "code",
   "execution_count": null,
   "metadata": {
    "id": "UZz-ce-QnzaU"
   },
   "outputs": [],
   "source": [
    "data.shape"
   ]
  },
  {
   "cell_type": "markdown",
   "metadata": {
    "id": "HbnaQJxw2mHQ"
   },
   "source": [
    "В этом ноутбуке нам придется подбирать гиперпараметры модели, а ещё и порог, поэтому чтобы не переобучиться, разобъем данные на трейн, валидацию и тест.\n",
    "\n",
    "*  обучать модели будем на тренировочных данных\n",
    "*  подбирать необходимые величины - по валидации\n",
    "*  оценивать качество - на тесте"
   ]
  },
  {
   "cell_type": "code",
   "execution_count": null,
   "metadata": {
    "id": "bkG1LjB0s81d"
   },
   "outputs": [],
   "source": [
    "# разделим данные на обучающую и тестовую выборки\n",
    "from sklearn.model_selection import train_test_split\n",
    "\n",
    "X = data.drop('TARGET', axis=1)\n",
    "y = data['TARGET']\n",
    "\n",
    "Xtrain, Xtest, ytrain, ytest = train_test_split(X, y, train_size=0.7, random_state=123)\n",
    "Xtrain, Xval, ytrain, yval = train_test_split(Xtrain, ytrain, train_size=0.7, random_state=123)"
   ]
  },
  {
   "cell_type": "markdown",
   "metadata": {
    "id": "9g3cyUKPqgqu"
   },
   "source": [
    "### KNN\n",
    "\n",
    "Обучите на тренировочных данных KNN с параметрами по умолчанию и выведите матрицу ошибок, а также значение метрик precision и recall на тестовых данных."
   ]
  },
  {
   "cell_type": "code",
   "execution_count": null,
   "metadata": {
    "id": "efySFKgej1_1"
   },
   "outputs": [],
   "source": [
    "from sklearn.neighbors import KNeighborsClassifier\n",
    "from sklearn.metrics import confusion_matrix\n",
    "from sklearn.metrics import precision_score, recall_score"
   ]
  },
  {
   "cell_type": "code",
   "execution_count": null,
   "metadata": {
    "id": "QzR_npzTj5OC"
   },
   "outputs": [],
   "source": [
    "# ваш код здесь"
   ]
  },
  {
   "cell_type": "markdown",
   "metadata": {},
   "source": [
    "Теперь с помощью GridSearchCV подберите оптимальное число соседей k в методе (в sklearn параметр называется n_neighbors). Ищите значения в диапазоне от 1 до 15.\n",
    "\n",
    "Для наилучшего k обучите модель на тренировочных данных и выведите матрицу ошибок, а также значение метрик precision и recall на тестовых данных."
   ]
  },
  {
   "cell_type": "code",
   "execution_count": null,
   "metadata": {},
   "outputs": [],
   "source": [
    "# ваш код здесь"
   ]
  },
  {
   "cell_type": "markdown",
   "metadata": {
    "id": "E9Bk7tSerX-L"
   },
   "source": [
    "Какой вывод можно сделать?\n",
    "\n",
    "Напишите ваш вывод о качестве работы модели текстом."
   ]
  },
  {
   "cell_type": "markdown",
   "metadata": {
    "id": "zGmfshG9rmBn"
   },
   "source": [
    "### LogReg\n",
    "\n",
    "Обучите логистическую регрессию с параметрами по умолчанию и посмотрите на метрики.\n",
    "\n",
    "Везде дальше при оценке метрик надо выводить confusion_matrix, precision и recall."
   ]
  },
  {
   "cell_type": "code",
   "execution_count": null,
   "metadata": {
    "id": "7tOX78zbrPHB"
   },
   "outputs": [],
   "source": [
    "from sklearn.linear_model import LogisticRegression\n",
    "\n",
    "# ваш код здесь"
   ]
  },
  {
   "cell_type": "markdown",
   "metadata": {
    "id": "CvWGh7m9sTKM"
   },
   "source": [
    "Наша цель - найти как можно больше клиентов, кто откликнется на предложение.\n",
    "\n",
    "Предскажите вероятности классов с помощью обученной логистической регрессии на тестовых данных, и выведите вероятности положительного класса для первых 10 объектов.\n",
    "\n",
    "Глядя на полученные вероятности, попробуйте объяснить, почему вы получили именно такую матрицу ошибок и такие значения точности с полноты."
   ]
  },
  {
   "cell_type": "code",
   "execution_count": 1,
   "metadata": {
    "colab": {
     "base_uri": "https://localhost:8080/"
    },
    "id": "LNqjcxrwsLzl",
    "outputId": "56869810-64e9-49ce-e098-5d6c49c6c7fc"
   },
   "outputs": [],
   "source": [
    "# ваш код здесь"
   ]
  },
  {
   "cell_type": "code",
   "execution_count": null,
   "metadata": {
    "id": "mwJzqbfv5yE4"
   },
   "outputs": [],
   "source": [
    "# ваше объяснение здесь"
   ]
  },
  {
   "cell_type": "markdown",
   "metadata": {
    "id": "Z08xmRAcugGb"
   },
   "source": [
    "Давайте уточним нашу цель. Пусть нам нужно найти как можно больше клиентов, кто откликнется на предложение, то есть максимизировать полноту (recall). \n",
    "\n",
    "При этом нам хочется, чтобы точность модели (precision) не была очень низкой. Заказчик посмотрел на результаты работы KNN и потребовал, чтобы точность была не ниже, чем у KNN: $precision \\geq 0.13$."
   ]
  },
  {
   "cell_type": "markdown",
   "metadata": {
    "id": "f-syFkflt6EV"
   },
   "source": [
    "Давайте будем изменять порог для перевода вероятности в классы так, чтобы:\n",
    "*   максимизировать значение recall\n",
    "*   при условии, что $precision \\geq 0.13$.\n",
    "\n",
    "Если мы будем подбирать порог по тестовой выборке, то мы по сути обучимся на ней и, значит, переобучимся. Это плохо. \n",
    "\n",
    "Поэтому прескажите вероятности на валидационной выборке и подберите порог по валидационной выборке (Xval, yval), а затем посмотрите, какое качество для найденного порога вы получите на тестовых данных."
   ]
  },
  {
   "cell_type": "code",
   "execution_count": null,
   "metadata": {
    "id": "398pACpBtFi2"
   },
   "outputs": [],
   "source": [
    "probs_val = lr.predict_proba(Xval)[:,1]\n",
    "\n",
    "max_recall = -1\n",
    "thr = -1\n",
    "prec = -1\n",
    "\n",
    "for threshold in np.arange(0.05, 0.25, 0.001):\n",
    "    # для каждого значения порога переведите вероятности в классы\n",
    "    # посчитайте метрики\n",
    "\n",
    "# напечатайте порог, для которого получается максимальная полнота, при precision >= 0.13"
   ]
  },
  {
   "cell_type": "code",
   "execution_count": null,
   "metadata": {
    "id": "qpHv0DVwywKq"
   },
   "outputs": [],
   "source": [
    "# по найденному порогу переведите вероятности в классы на тесте и напечатайте метрики"
   ]
  },
  {
   "cell_type": "markdown",
   "metadata": {
    "id": "fLakCD5TwmDe"
   },
   "source": [
    "Сделайте вывод. Смогли ли мы с помощью подбора порога добиться бОльшего значения recall, чем у KNN? "
   ]
  },
  {
   "cell_type": "code",
   "execution_count": null,
   "metadata": {
    "id": "222ZBiDy6Z1_"
   },
   "outputs": [],
   "source": [
    "# ваш вывод здесь"
   ]
  },
  {
   "cell_type": "markdown",
   "metadata": {
    "id": "zc1D7Hy8wvkR"
   },
   "source": [
    "А ещё можно подбирать значение гиперпараметра C у логистической регрессии для улучшения качества предсказания. \n",
    "\n",
    "1) Обучите для значений C из диапазона [0.05, 0.15, 0.25, ...., 10.05] логистическую регрессию (на тренировочных данных).\n",
    "\n",
    "2) Для каждой из обученных моделей во внутреннем цикле подберите оптимальный порог (как в предыдущем задании) - на валидационных данных.\n",
    "\n",
    "\n",
    "\n",
    "В качестве результата выведите значение C и порога для модели, которая дает наилучшие значения метрик (наибольший recall при ограничении на $precision \\geq 0.13$).\n",
    "\n",
    "Также напечатайте полученные метрики (матрицу ошибок, точность и полноту) для лучшей модели - на тестовых данных."
   ]
  },
  {
   "cell_type": "code",
   "execution_count": null,
   "metadata": {
    "id": "EhjmTEkhuT9S"
   },
   "outputs": [],
   "source": [
    "regs = []\n",
    "recalls = []\n",
    "thresholds = []\n",
    "precisions = []\n",
    "\n",
    "for reg in np.arange(0.001, 0.1, 0.01):\n",
    "\n",
    "    # обучите логистическую регрессию с C=reg\n",
    "\n",
    "    max_recall = -1\n",
    "    thr = -1\n",
    "    prec = -1\n",
    "\n",
    "    for threshold in np.arange(0.05, 0.25, 0.001):\n",
    "        # подберите оптимальный порог как в задании выше\n",
    "\n",
    "    recalls.append(max_recall)\n",
    "    thresholds.append(thr)\n",
    "    precisions.append(prec)\n",
    "    regs.append(C)"
   ]
  },
  {
   "cell_type": "code",
   "execution_count": null,
   "metadata": {
    "id": "DZtXAIxi0Ksr"
   },
   "outputs": [],
   "source": [
    "# выведите значения C, precision, recall, threshold для наилучшей по заданным условиям модели"
   ]
  },
  {
   "cell_type": "code",
   "execution_count": null,
   "metadata": {
    "id": "rQLQZ1bg4BGy"
   },
   "outputs": [],
   "source": [
    "# с помощью найденных C и threshold обучите модель на тренировочных данных, сделайте предсказание на тесте и по найденному порогу получите классы.\n",
    "# напечатайте метрики"
   ]
  },
  {
   "cell_type": "markdown",
   "metadata": {
    "id": "fwpx_UVS2DK_"
   },
   "source": [
    "Влияет ли изменение гиперпараметра C на качество модели (и, соответственно, метрики) в этой задаче?"
   ]
  },
  {
   "cell_type": "code",
   "execution_count": null,
   "metadata": {
    "id": "FzTsUr7p7Eu-"
   },
   "outputs": [],
   "source": [
    "# ваш вывод здесь"
   ]
  },
  {
   "cell_type": "markdown",
   "metadata": {
    "id": "BaCqlDx74pns"
   },
   "source": [
    "Удалось ли при помощи логистической регрессии и подбора порога превзойти качество метода ближайших соседей в этой задаче? \n",
    "\n",
    "Смогли ли мы при помощи этой модели получить высокий recall при ограничениях, поставленных заказчиком?"
   ]
  },
  {
   "cell_type": "code",
   "execution_count": null,
   "metadata": {
    "id": "upznWo7n4o0F"
   },
   "outputs": [],
   "source": [
    "# ваш вывод здесь"
   ]
  }
 ],
 "metadata": {
  "colab": {
   "collapsed_sections": [],
   "provenance": []
  },
  "kernelspec": {
   "display_name": "Python 3",
   "language": "python",
   "name": "python3"
  },
  "language_info": {
   "codemirror_mode": {
    "name": "ipython",
    "version": 3
   },
   "file_extension": ".py",
   "mimetype": "text/x-python",
   "name": "python",
   "nbconvert_exporter": "python",
   "pygments_lexer": "ipython3",
   "version": "3.7.6"
  }
 },
 "nbformat": 4,
 "nbformat_minor": 1
}
